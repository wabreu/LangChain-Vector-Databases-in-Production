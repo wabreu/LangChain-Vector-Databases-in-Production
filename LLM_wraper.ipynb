{
 "cells": [
  {
   "cell_type": "code",
   "execution_count": 3,
   "metadata": {},
   "outputs": [
    {
     "name": "stdout",
     "output_type": "stream",
     "text": [
      "Requirement already satisfied: langchain==0.0.208 in /Users/w/anaconda3/lib/python3.11/site-packages (0.0.208)\n",
      "Requirement already satisfied: deeplake in /Users/w/anaconda3/lib/python3.11/site-packages (3.6.5)\n",
      "Requirement already satisfied: openai==0.27.8 in /Users/w/anaconda3/lib/python3.11/site-packages (0.27.8)\n",
      "Requirement already satisfied: PyYAML>=5.4.1 in /Users/w/anaconda3/lib/python3.11/site-packages (from langchain==0.0.208) (6.0)\n",
      "Requirement already satisfied: SQLAlchemy<3,>=1.4 in /Users/w/anaconda3/lib/python3.11/site-packages (from langchain==0.0.208) (1.4.49)\n",
      "Requirement already satisfied: aiohttp<4.0.0,>=3.8.3 in /Users/w/anaconda3/lib/python3.11/site-packages (from langchain==0.0.208) (3.8.3)\n",
      "Requirement already satisfied: dataclasses-json<0.6.0,>=0.5.7 in /Users/w/anaconda3/lib/python3.11/site-packages (from langchain==0.0.208) (0.5.14)\n",
      "Requirement already satisfied: langchainplus-sdk>=0.0.13 in /Users/w/anaconda3/lib/python3.11/site-packages (from langchain==0.0.208) (0.0.20)\n",
      "Requirement already satisfied: numexpr<3.0.0,>=2.8.4 in /Users/w/anaconda3/lib/python3.11/site-packages (from langchain==0.0.208) (2.8.4)\n",
      "Requirement already satisfied: numpy<2,>=1 in /Users/w/anaconda3/lib/python3.11/site-packages (from langchain==0.0.208) (1.24.3)\n",
      "Requirement already satisfied: openapi-schema-pydantic<2.0,>=1.2 in /Users/w/anaconda3/lib/python3.11/site-packages (from langchain==0.0.208) (1.2.4)\n",
      "Requirement already satisfied: pydantic<2,>=1 in /Users/w/anaconda3/lib/python3.11/site-packages (from langchain==0.0.208) (1.10.13)\n",
      "Requirement already satisfied: requests<3,>=2 in /Users/w/anaconda3/lib/python3.11/site-packages (from langchain==0.0.208) (2.29.0)\n",
      "Requirement already satisfied: tenacity<9.0.0,>=8.1.0 in /Users/w/anaconda3/lib/python3.11/site-packages (from langchain==0.0.208) (8.2.2)\n",
      "Requirement already satisfied: tqdm in /Users/w/anaconda3/lib/python3.11/site-packages (from openai==0.27.8) (4.65.0)\n",
      "Requirement already satisfied: pillow in /Users/w/anaconda3/lib/python3.11/site-packages (from deeplake) (9.4.0)\n",
      "Requirement already satisfied: boto3 in /Users/w/anaconda3/lib/python3.11/site-packages (from deeplake) (1.33.1)\n",
      "Requirement already satisfied: click in /Users/w/anaconda3/lib/python3.11/site-packages (from deeplake) (8.1.7)\n",
      "Requirement already satisfied: pathos in /Users/w/anaconda3/lib/python3.11/site-packages (from deeplake) (0.3.1)\n",
      "Requirement already satisfied: humbug>=0.3.1 in /Users/w/anaconda3/lib/python3.11/site-packages (from deeplake) (0.3.2)\n",
      "Requirement already satisfied: numcodecs in /Users/w/anaconda3/lib/python3.11/site-packages (from deeplake) (0.12.1)\n",
      "Requirement already satisfied: pyjwt in /Users/w/anaconda3/lib/python3.11/site-packages (from deeplake) (2.4.0)\n",
      "Requirement already satisfied: aioboto3>=10.4.0 in /Users/w/anaconda3/lib/python3.11/site-packages (from deeplake) (12.1.0)\n",
      "Requirement already satisfied: nest-asyncio in /Users/w/anaconda3/lib/python3.11/site-packages (from deeplake) (1.5.6)\n",
      "Requirement already satisfied: aiobotocore==2.8.0 in /Users/w/anaconda3/lib/python3.11/site-packages (from aiobotocore[boto3]==2.8.0->aioboto3>=10.4.0->deeplake) (2.8.0)\n",
      "Requirement already satisfied: botocore<1.33.2,>=1.32.4 in /Users/w/anaconda3/lib/python3.11/site-packages (from aiobotocore==2.8.0->aiobotocore[boto3]==2.8.0->aioboto3>=10.4.0->deeplake) (1.33.1)\n",
      "Requirement already satisfied: wrapt<2.0.0,>=1.10.10 in /Users/w/anaconda3/lib/python3.11/site-packages (from aiobotocore==2.8.0->aiobotocore[boto3]==2.8.0->aioboto3>=10.4.0->deeplake) (1.14.1)\n",
      "Requirement already satisfied: aioitertools<1.0.0,>=0.5.1 in /Users/w/anaconda3/lib/python3.11/site-packages (from aiobotocore==2.8.0->aiobotocore[boto3]==2.8.0->aioboto3>=10.4.0->deeplake) (0.7.1)\n",
      "Requirement already satisfied: attrs>=17.3.0 in /Users/w/anaconda3/lib/python3.11/site-packages (from aiohttp<4.0.0,>=3.8.3->langchain==0.0.208) (22.1.0)\n",
      "Requirement already satisfied: charset-normalizer<3.0,>=2.0 in /Users/w/anaconda3/lib/python3.11/site-packages (from aiohttp<4.0.0,>=3.8.3->langchain==0.0.208) (2.0.4)\n",
      "Requirement already satisfied: multidict<7.0,>=4.5 in /Users/w/anaconda3/lib/python3.11/site-packages (from aiohttp<4.0.0,>=3.8.3->langchain==0.0.208) (6.0.2)\n",
      "Requirement already satisfied: async-timeout<5.0,>=4.0.0a3 in /Users/w/anaconda3/lib/python3.11/site-packages (from aiohttp<4.0.0,>=3.8.3->langchain==0.0.208) (4.0.2)\n",
      "Requirement already satisfied: yarl<2.0,>=1.0 in /Users/w/anaconda3/lib/python3.11/site-packages (from aiohttp<4.0.0,>=3.8.3->langchain==0.0.208) (1.8.1)\n",
      "Requirement already satisfied: frozenlist>=1.1.1 in /Users/w/anaconda3/lib/python3.11/site-packages (from aiohttp<4.0.0,>=3.8.3->langchain==0.0.208) (1.3.3)\n",
      "Requirement already satisfied: aiosignal>=1.1.2 in /Users/w/anaconda3/lib/python3.11/site-packages (from aiohttp<4.0.0,>=3.8.3->langchain==0.0.208) (1.2.0)\n",
      "Requirement already satisfied: jmespath<2.0.0,>=0.7.1 in /Users/w/anaconda3/lib/python3.11/site-packages (from boto3->deeplake) (0.10.0)\n",
      "Requirement already satisfied: s3transfer<0.9.0,>=0.8.0 in /Users/w/anaconda3/lib/python3.11/site-packages (from boto3->deeplake) (0.8.0)\n",
      "Requirement already satisfied: marshmallow<4.0.0,>=3.18.0 in /Users/w/anaconda3/lib/python3.11/site-packages (from dataclasses-json<0.6.0,>=0.5.7->langchain==0.0.208) (3.20.1)\n",
      "Requirement already satisfied: typing-inspect<1,>=0.4.0 in /Users/w/anaconda3/lib/python3.11/site-packages (from dataclasses-json<0.6.0,>=0.5.7->langchain==0.0.208) (0.9.0)\n",
      "Requirement already satisfied: typing-extensions>=4.2.0 in /Users/w/anaconda3/lib/python3.11/site-packages (from pydantic<2,>=1->langchain==0.0.208) (4.6.3)\n",
      "Requirement already satisfied: idna<4,>=2.5 in /Users/w/anaconda3/lib/python3.11/site-packages (from requests<3,>=2->langchain==0.0.208) (3.4)\n",
      "Requirement already satisfied: urllib3<1.27,>=1.21.1 in /Users/w/anaconda3/lib/python3.11/site-packages (from requests<3,>=2->langchain==0.0.208) (1.26.16)\n",
      "Requirement already satisfied: certifi>=2017.4.17 in /Users/w/anaconda3/lib/python3.11/site-packages (from requests<3,>=2->langchain==0.0.208) (2023.5.7)\n",
      "Requirement already satisfied: greenlet!=0.4.17 in /Users/w/anaconda3/lib/python3.11/site-packages (from SQLAlchemy<3,>=1.4->langchain==0.0.208) (2.0.1)\n",
      "Requirement already satisfied: ppft>=1.7.6.7 in /Users/w/anaconda3/lib/python3.11/site-packages (from pathos->deeplake) (1.7.6.7)\n",
      "Requirement already satisfied: dill>=0.3.7 in /Users/w/anaconda3/lib/python3.11/site-packages (from pathos->deeplake) (0.3.7)\n",
      "Requirement already satisfied: pox>=0.3.3 in /Users/w/anaconda3/lib/python3.11/site-packages (from pathos->deeplake) (0.3.3)\n",
      "Requirement already satisfied: multiprocess>=0.70.15 in /Users/w/anaconda3/lib/python3.11/site-packages (from pathos->deeplake) (0.70.15)\n",
      "Requirement already satisfied: python-dateutil<3.0.0,>=2.1 in /Users/w/anaconda3/lib/python3.11/site-packages (from botocore<1.33.2,>=1.32.4->aiobotocore==2.8.0->aiobotocore[boto3]==2.8.0->aioboto3>=10.4.0->deeplake) (2.8.2)\n",
      "Requirement already satisfied: packaging>=17.0 in /Users/w/anaconda3/lib/python3.11/site-packages (from marshmallow<4.0.0,>=3.18.0->dataclasses-json<0.6.0,>=0.5.7->langchain==0.0.208) (23.0)\n",
      "Requirement already satisfied: mypy-extensions>=0.3.0 in /Users/w/anaconda3/lib/python3.11/site-packages (from typing-inspect<1,>=0.4.0->dataclasses-json<0.6.0,>=0.5.7->langchain==0.0.208) (0.4.3)\n",
      "Requirement already satisfied: six>=1.5 in /Users/w/anaconda3/lib/python3.11/site-packages (from python-dateutil<3.0.0,>=2.1->botocore<1.33.2,>=1.32.4->aiobotocore==2.8.0->aiobotocore[boto3]==2.8.0->aioboto3>=10.4.0->deeplake) (1.16.0)\n"
     ]
    }
   ],
   "source": [
    "!pip install langchain==0.0.208 deeplake openai==0.27.8 tiktoken"
   ]
  }
 ],
 "metadata": {
  "kernelspec": {
   "display_name": "Python 3",
   "language": "python",
   "name": "python3"
  },
  "language_info": {
   "codemirror_mode": {
    "name": "ipython",
    "version": 3
   },
   "file_extension": ".py",
   "mimetype": "text/x-python",
   "name": "python",
   "nbconvert_exporter": "python",
   "pygments_lexer": "ipython3",
   "version": "3.11.4"
  }
 },
 "nbformat": 4,
 "nbformat_minor": 2
}
