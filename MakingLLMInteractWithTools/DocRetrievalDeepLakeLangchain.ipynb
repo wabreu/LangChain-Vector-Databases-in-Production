{
 "cells": [
  {
   "cell_type": "code",
   "execution_count": null,
   "metadata": {},
   "outputs": [],
   "source": [
    "# We'll use an embedding model to compute the embeddings of our documents\n",
    "from langchain.embeddings.openai import OpenAIEmbeddings\n",
    "from langchain.vectorstores import DeepLake\n",
    "\n",
    "# instantiate embedding model\n",
    "embeddings = OpenAIEmbeddings(model=\"text-embedding-ada-002\")\n",
    "\n",
    "# create Deep Lake dataset\n",
    "# We'll store the documents and their embeddings in the deep lake vector db\n",
    "# TODO: use your organization id here. (by default, org id is your username)\n",
    "my_activeloop_org_id = \"<YOUR-ACTIVELOOP-ORG-ID>\"\n",
    "my_activeloop_dataset_name = \"langchain_course_custom_tool\"\n",
    "dataset_path = f\"hub://{my_activeloop_org_id}/{my_activeloop_dataset_name}\"\n",
    "db = DeepLake(dataset_path=dataset_path, embedding_function=embeddings)"
   ]
  },
  {
   "cell_type": "code",
   "execution_count": null,
   "metadata": {},
   "outputs": [],
   "source": [
    "# add faqs to the dataset\n",
    "faqs = [\n",
    "    \"What is PayPal?\\nPayPal is a digital wallet that follows you wherever you go. Pay any way you want. Link your credit cards to your PayPal Digital wallet, and when you want to pay, simply log in with your username and password and pick which one you want to use.\",\n",
    "    \"Why should I use PayPal?\\nIt's Fast! We will help you pay in just a few clicks. Enter your email address and password, and you're pretty much done! It's Simple! There's no need to run around searching for your wallet. Better yet, you don't need to type in your financial details again and again when making a purchase online. We make it simple for you to pay with just your email address and password.\",\n",
    "    \"Is it secure?\\nPayPal is the safer way to pay because we keep your financial information private. It isn't shared with anyone else when you shop, so you don't have to worry about paying businesses and people you don't know. On top of that, we've got your back. If your eligible purchase doesn't arrive or doesn't match its description, we will refund you the full purchase price plus shipping costs with PayPal's Buyer Protection program.\",\n",
    "    \"Where can I use PayPal?\\nThere are millions of places you can use PayPal worldwide. In addition to online stores, there are many charities that use PayPal to raise money. Find a list of charities you can donate to here. Additionally, you can send funds internationally to anyone almost anywhere in the world with PayPal. All you need is their email address. Sending payments abroad has never been easier.\",\n",
    "    \"Do I need a balance in my account to use it?\\nYou do not need to have any balance in your account to use PayPal. Similar to a physical wallet, when you are making a purchase, you can choose to pay for your items with any of the credit cards that are attached to your account. There is no need to pre-fund your account.\"\n",
    "]\n",
    "db.add_texts(faqs)\n",
    "\n",
    "# Get the retriever object from the deep lake db object\n",
    "retriever = db.as_retriever()"
   ]
  },
  {
   "cell_type": "code",
   "execution_count": null,
   "metadata": {},
   "outputs": [],
   "source": [
    "from langchain.agents import tool\n",
    "\n",
    "# We define some variables that will be used inside our custom tool\n",
    "# We're creating a custom tool that looks for relevant documents in our deep lake db\n",
    "CUSTOM_TOOL_N_DOCS = 3 # number of retrieved docs from deep lake to consider\n",
    "CUSTOM_TOOL_DOCS_SEPARATOR =\"\\n\\n\" # how to join together the retrieved docs to form a single string\n",
    "\n",
    "# We use the tool decorator to wrap a function that will become our custom tool\n",
    "# Note that the tool has a single string as input and returns a single string as output\n",
    "# The name of the function will be the name of our custom tool\n",
    "# The docstring of the function will be the description of our custom tool\n",
    "# The description is used by the agent to decide whether to use the tool for a specific query\n",
    "@tool\n",
    "def retrieve_n_docs_tool(query: str) -> str:\n",
    "    \"\"\" Searches for relevant documents that may contain the answer to the query.\"\"\"\n",
    "    docs = retriever.get_relevant_documents(query)[:CUSTOM_TOOL_N_DOCS]\n",
    "    texts = [doc.page_content for doc in docs]\n",
    "    texts_merged = CUSTOM_TOOL_DOCS_SEPARATOR.join(texts)\n",
    "    return texts_merged"
   ]
  },
  {
   "cell_type": "code",
   "execution_count": null,
   "metadata": {},
   "outputs": [],
   "source": [
    "from langchain.agents import tool\n",
    "\n",
    "# We define some variables that will be used inside our custom tool\n",
    "# We're creating a custom tool that looks for relevant documents in our deep lake db\n",
    "CUSTOM_TOOL_N_DOCS = 3 # number of retrieved docs from deep lake to consider\n",
    "CUSTOM_TOOL_DOCS_SEPARATOR =\"\\n\\n\" # how to join together the retrieved docs to form a single string\n",
    "\n",
    "# We use the tool decorator to wrap a function that will become our custom tool\n",
    "# Note that the tool has a single string as input and returns a single string as output\n",
    "# The name of the function will be the name of our custom tool\n",
    "# The docstring of the function will be the description of our custom tool\n",
    "# The description is used by the agent to decide whether to use the tool for a specific query\n",
    "@tool\n",
    "def retrieve_n_docs_tool(query: str) -> str:\n",
    "    \"\"\" Searches for relevant documents that may contain the answer to the query.\"\"\"\n",
    "    docs = retriever.get_relevant_documents(query)[:CUSTOM_TOOL_N_DOCS]\n",
    "    texts = [doc.page_content for doc in docs]\n",
    "    texts_merged = CUSTOM_TOOL_DOCS_SEPARATOR.join(texts)\n",
    "    return texts_merged"
   ]
  },
  {
   "cell_type": "code",
   "execution_count": null,
   "metadata": {},
   "outputs": [],
   "source": [
    "response = agent.run(\"Are my info kept private when I shop with Paypal?\")\n",
    "print(response)"
   ]
  },
  {
   "cell_type": "code",
   "execution_count": null,
   "metadata": {},
   "outputs": [],
   "source": []
  }
 ],
 "metadata": {
  "language_info": {
   "name": "python"
  }
 },
 "nbformat": 4,
 "nbformat_minor": 2
}
